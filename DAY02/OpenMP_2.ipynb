{
  "cells": [
    {
      "cell_type": "markdown",
      "metadata": {
        "id": "ENGaGh4hTmBW"
      },
      "source": [
        "# Execute a C code"
      ]
    },
    {
      "cell_type": "code",
      "execution_count": 1,
      "metadata": {
        "id": "S48exl62Py0c",
        "colab": {
          "base_uri": "https://localhost:8080/"
        },
        "outputId": "38f1d1f9-5028-4f1d-f678-84ce2478af2f"
      },
      "outputs": [
        {
          "output_type": "stream",
          "name": "stdout",
          "text": [
            "Writing Hello.c\n"
          ]
        }
      ],
      "source": [
        "%%writefile Hello.c\n",
        "#include<stdio.h>\n",
        "int main()\n",
        "{\n",
        "    printf(\"Hello world\");\n",
        "}"
      ]
    },
    {
      "cell_type": "code",
      "execution_count": 2,
      "metadata": {
        "id": "jiOwbHGnQUGP"
      },
      "outputs": [],
      "source": [
        "!gcc Hello.c -o Hello"
      ]
    },
    {
      "cell_type": "code",
      "execution_count": 3,
      "metadata": {
        "colab": {
          "base_uri": "https://localhost:8080/"
        },
        "id": "KzoHw96JQf0M",
        "outputId": "b9b8ffc7-b35d-4e01-8b29-1ff4d17531a3"
      },
      "outputs": [
        {
          "output_type": "stream",
          "name": "stdout",
          "text": [
            "Hello world"
          ]
        }
      ],
      "source": [
        "!./Hello"
      ]
    },
    {
      "cell_type": "markdown",
      "metadata": {
        "id": "dJW32ESfY-bP"
      },
      "source": [
        "# Thread ID\n",
        "Each thread will have copies of numthread and thid"
      ]
    },
    {
      "cell_type": "code",
      "execution_count": 16,
      "metadata": {
        "colab": {
          "base_uri": "https://localhost:8080/"
        },
        "id": "gPLXBFwgXW8D",
        "outputId": "e29effef-0fac-4847-f30c-b9625f0cdc9f"
      },
      "outputs": [
        {
          "output_type": "stream",
          "name": "stdout",
          "text": [
            "Writing ThID.c\n"
          ]
        }
      ],
      "source": [
        "%%writefile ThID.c\n",
        "#include<stdio.h>\n",
        "#include<omp.h>\n",
        "int main()\n",
        "{\n",
        "#pragma omp parallel\n",
        "{\n",
        "    printf(\"Hello world from OpenOMP\\n\");\n",
        "    int numt=omp_get_num_threads();\n",
        "    printf(\"Number of threads in my program is  %d\\n\",numt);\n",
        "    int thid=omp_get_thread_num();\n",
        "    printf(\"My thread ID is %d\\n\",thid);\n",
        "}\n",
        "}"
      ]
    },
    {
      "cell_type": "code",
      "execution_count": 17,
      "metadata": {
        "colab": {
          "base_uri": "https://localhost:8080/"
        },
        "id": "hN67JnlEZvda",
        "outputId": "bc893a9b-73ca-42b5-a684-cba5e5cfddd7"
      },
      "outputs": [
        {
          "output_type": "stream",
          "name": "stdout",
          "text": [
            "Hello world from OpenOMP\n",
            "Number of threads in my program is  4\n",
            "My thread ID is 1\n",
            "Hello world from OpenOMP\n",
            "Number of threads in my program is  4\n",
            "My thread ID is 2\n",
            "Hello world from OpenOMP\n",
            "Number of threads in my program is  4\n",
            "My thread ID is 3\n",
            "Hello world from OpenOMP\n",
            "Number of threads in my program is  4\n",
            "My thread ID is 0\n"
          ]
        }
      ],
      "source": [
        "!gcc -fopenmp ThID.c -o ThID\n",
        "!./ThID"
      ]
    },
    {
      "cell_type": "code",
      "execution_count": 18,
      "metadata": {
        "colab": {
          "base_uri": "https://localhost:8080/"
        },
        "id": "b3fqxxU8r0gt",
        "outputId": "2ca26cb6-7a7e-418a-badf-6118ad74f196"
      },
      "outputs": [
        {
          "output_type": "stream",
          "name": "stdout",
          "text": [
            "env: OMP_NUM_THREADS=4\n"
          ]
        }
      ],
      "source": [
        "%env OMP_NUM_THREADS=4"
      ]
    },
    {
      "cell_type": "code",
      "source": [],
      "metadata": {
        "id": "550Pflgna5MV"
      },
      "execution_count": 18,
      "outputs": []
    },
    {
      "cell_type": "markdown",
      "metadata": {
        "id": "iR-lDXQ-auGe"
      },
      "source": [
        "Within one thread the statements are executed sequentially\n",
        "Between threads, the order is not determined\n",
        "Threads may interleaved. Because it is completely dynamic"
      ]
    },
    {
      "cell_type": "code",
      "execution_count": 19,
      "metadata": {
        "colab": {
          "base_uri": "https://localhost:8080/"
        },
        "id": "ltMuKlLjZ3de",
        "outputId": "2a73043b-419d-4290-a878-23f528ce90f1"
      },
      "outputs": [
        {
          "output_type": "stream",
          "name": "stdout",
          "text": [
            "Writing ShaPri.c\n"
          ]
        }
      ],
      "source": [
        "%%writefile ShaPri.c\n",
        "#include<stdio.h>\n",
        "#include<omp.h>\n",
        "int main()\n",
        "{\n",
        "  int sum=0;\n",
        "\n",
        "#pragma omp parallel\n",
        "{\n",
        "    int thid=omp_get_thread_num();\n",
        "    printf(\"My thread ID is %d\\n\",thid);\n",
        "    sum=sum+1;\n",
        "}\n",
        "printf(\"Sum is %d\\n\",sum);\n",
        "}"
      ]
    },
    {
      "cell_type": "code",
      "execution_count": 20,
      "metadata": {
        "id": "LtebIwBPjBiK"
      },
      "outputs": [],
      "source": [
        "!gcc -fopenmp ShaPri.c -o ShaPri\n"
      ]
    },
    {
      "cell_type": "code",
      "execution_count": 21,
      "metadata": {
        "colab": {
          "base_uri": "https://localhost:8080/"
        },
        "id": "pkO9To5vtmrG",
        "outputId": "fd77f7d7-458f-4d5a-ce38-b5225f59b2ce"
      },
      "outputs": [
        {
          "output_type": "stream",
          "name": "stdout",
          "text": [
            "My thread ID is 0\n",
            "My thread ID is 3\n",
            "My thread ID is 2\n",
            "My thread ID is 1\n",
            "Sum is 4\n"
          ]
        }
      ],
      "source": [
        "!./ShaPri"
      ]
    },
    {
      "cell_type": "code",
      "execution_count": 22,
      "metadata": {
        "colab": {
          "base_uri": "https://localhost:8080/"
        },
        "id": "rrqcdsz7vtTv",
        "outputId": "502788ba-0fbe-455a-c5fe-f89f66615e70"
      },
      "outputs": [
        {
          "output_type": "stream",
          "name": "stdout",
          "text": [
            "Writing Pi1.c\n"
          ]
        }
      ],
      "source": [
        "%%writefile Pi1.c\n",
        "#include<stdio.h>\n",
        "#include<stdlib.h>\n",
        "#include<omp.h>\n",
        "static long num_steps = 100000000;\n",
        "double step;\n",
        "int main()\n",
        "{\n",
        "int i;\n",
        "double x, pi, sum = 0.0;\n",
        "double start_time, run_time;\n",
        "step = 1/(double)num_steps;\n",
        "start_time = omp_get_wtime();\n",
        "for(i = 0; i < num_steps; i++)\n",
        "{\n",
        "x = (i + 0.5)*step;\n",
        "sum += 4.0/(1.0 + x * x);\n",
        "}\n",
        "pi = step * sum;\n",
        "run_time = omp_get_wtime() - start_time;\n",
        "printf(\"\\n Pi value = %f total time = %f \",pi,run_time);\n",
        "return 0;\n",
        "}"
      ]
    },
    {
      "cell_type": "code",
      "execution_count": 23,
      "metadata": {
        "id": "hyDChaTGv391"
      },
      "outputs": [],
      "source": [
        "!gcc -fopenmp Pi1.c -o Pi1"
      ]
    },
    {
      "cell_type": "code",
      "execution_count": 24,
      "metadata": {
        "colab": {
          "base_uri": "https://localhost:8080/"
        },
        "id": "kv-xcudsv_QT",
        "outputId": "32fc8b74-5295-4334-9ce3-2647a4bac373"
      },
      "outputs": [
        {
          "output_type": "stream",
          "name": "stdout",
          "text": [
            "\n",
            " Pi value = 3.141593 total time = 0.514958 "
          ]
        }
      ],
      "source": [
        "!./Pi1"
      ]
    },
    {
      "cell_type": "code",
      "execution_count": 25,
      "metadata": {
        "colab": {
          "base_uri": "https://localhost:8080/"
        },
        "id": "SU2zQTXFm2ea",
        "outputId": "98ffcb59-089e-4aa2-f289-a02ea780d8e4"
      },
      "outputs": [
        {
          "output_type": "stream",
          "name": "stdout",
          "text": [
            "Writing paraloop.c\n"
          ]
        }
      ],
      "source": [
        "%%writefile paraloop.c\n",
        "#include<stdio.h>\n",
        "#include<omp.h>\n",
        "int main()\n",
        "{\n",
        "int sum=0;\n",
        "int i;\n",
        "#pragma omp parallel private(i) shared(sum)\n",
        "{\n",
        "\n",
        "    printf(\"Hello world from OpenOMP\\n\");\n",
        "    #pragma omp for\n",
        "    for(int i=0;i<10;i++)\n",
        "    {\n",
        "      sum=sum+i;\n",
        "      printf(\"iteration  is %d sum is %d\\n\",i,sum);\n",
        "    }\n",
        "}\n",
        "printf(\"the final sum is%d\",sum);\n",
        "}"
      ]
    },
    {
      "cell_type": "code",
      "execution_count": 26,
      "metadata": {
        "id": "_vnqWiIQncEH"
      },
      "outputs": [],
      "source": [
        "!gcc -fopenmp paraloop.c -o paraloop"
      ]
    },
    {
      "cell_type": "code",
      "execution_count": 27,
      "metadata": {
        "colab": {
          "base_uri": "https://localhost:8080/"
        },
        "id": "IZS9yW79nI-k",
        "outputId": "9ef44695-35c8-4a50-cd77-2280da7de8fa"
      },
      "outputs": [
        {
          "output_type": "stream",
          "name": "stdout",
          "text": [
            "Writing Paralloop.c\n"
          ]
        }
      ],
      "source": [
        "%%writefile Paralloop.c\n",
        "#include<stdio.h>\n",
        "#include<omp.h>\n",
        "int main()\n",
        "{\n",
        "  int sum=0;\n",
        "#pragma omp parallel\n",
        "{\n",
        "   #pragma omp for\n",
        "    for(int i=0;i<10;i++)\n",
        "    {\n",
        "      sum=sum+i;\n",
        "      printf(\"iteration  is %d sum is %d\\n\",i,sum);\n",
        "    }\n",
        "}\n",
        "printf(\"the sum is %d\\n\",sum);\n",
        "}"
      ]
    },
    {
      "cell_type": "code",
      "execution_count": 28,
      "metadata": {
        "id": "WN8LA_cqnrhe"
      },
      "outputs": [],
      "source": [
        "!gcc -fopenmp Paralloop.c -o Paralloop"
      ]
    },
    {
      "cell_type": "code",
      "execution_count": 29,
      "metadata": {
        "colab": {
          "base_uri": "https://localhost:8080/"
        },
        "id": "Kmgg6U3ypXLH",
        "outputId": "ed196a81-874c-4a3b-8f60-0076591e511f"
      },
      "outputs": [
        {
          "output_type": "stream",
          "name": "stdout",
          "text": [
            "iteration  is 0 sum is 0\n",
            "iteration  is 1 sum is 1\n",
            "iteration  is 2 sum is 9\n",
            "iteration  is 8 sum is 17\n",
            "iteration  is 9 sum is 26\n",
            "iteration  is 3 sum is 29\n",
            "iteration  is 4 sum is 33\n",
            "iteration  is 5 sum is 38\n",
            "iteration  is 6 sum is 7\n",
            "iteration  is 7 sum is 45\n",
            "the sum is 45\n"
          ]
        }
      ],
      "source": [
        "!./Paralloop"
      ]
    },
    {
      "cell_type": "code",
      "execution_count": 30,
      "metadata": {
        "colab": {
          "base_uri": "https://localhost:8080/"
        },
        "id": "tgMAk5KBnxPp",
        "outputId": "41e6dca6-c208-4cf7-acfc-acedd04f65b3"
      },
      "outputs": [
        {
          "output_type": "stream",
          "name": "stdout",
          "text": [
            "/bin/bash: line 1: ./Paraloop: No such file or directory\n"
          ]
        }
      ],
      "source": [
        "!./Paraloop"
      ]
    },
    {
      "cell_type": "code",
      "execution_count": 31,
      "metadata": {
        "colab": {
          "base_uri": "https://localhost:8080/"
        },
        "id": "2UYDbxvVwAvW",
        "outputId": "e6dc51b1-2275-434e-f086-14be9a08cbf4"
      },
      "outputs": [
        {
          "output_type": "stream",
          "name": "stdout",
          "text": [
            "Writing PiPara.c\n"
          ]
        }
      ],
      "source": [
        "%%writefile PiPara.c\n",
        "#include<stdio.h>\n",
        "#include<stdlib.h>\n",
        "#include<omp.h>\n",
        "#define MIN(x,y) ((x<y)?x:y)\n",
        "static long num_steps = 100000000;\n",
        "double step;\n",
        "int main()\n",
        "{\n",
        "int NThreads = 4;\n",
        "double x, pi, sum = 0.0;\n",
        "double start_time, run_time;\n",
        "step = 1/(double)num_steps;\n",
        "omp_set_num_threads(NThreads);\n",
        "int chunk_size = num_steps/NThreads;\n",
        "start_time = omp_get_wtime();\n",
        "#pragma omp parallel\n",
        "{\n",
        "int tid = omp_get_thread_num();\n",
        "int lower = tid * chunk_size;\n",
        "int upper = (tid + 1) * chunk_size;\n",
        "for(int i = lower; i < MIN(upper, num_steps); i++)\n",
        "{\n",
        "x = (i + 0.5)*step;\n",
        "sum += 4.0/(1.0 + x * x);\n",
        "}\n",
        "}\n",
        "pi = step * sum;\n",
        "run_time = omp_get_wtime() - start_time;\n",
        "printf(\"\\n Pi value = %f total time = %f \",pi, run_time);\n",
        "return 0;\n",
        "}"
      ]
    },
    {
      "cell_type": "code",
      "execution_count": 32,
      "metadata": {
        "id": "gY1ybuzIxhVT"
      },
      "outputs": [],
      "source": [
        "!gcc -fopenmp PiPara.c -o PiPara"
      ]
    },
    {
      "cell_type": "code",
      "execution_count": 33,
      "metadata": {
        "colab": {
          "base_uri": "https://localhost:8080/"
        },
        "id": "Gp_VvA00xqMo",
        "outputId": "36336224-2de5-477b-a938-e12130003140"
      },
      "outputs": [
        {
          "output_type": "stream",
          "name": "stdout",
          "text": [
            "\n",
            " Pi value = 2.041535 total time = 1.450941 "
          ]
        }
      ],
      "source": [
        "!./PiPara"
      ]
    },
    {
      "cell_type": "code",
      "execution_count": 34,
      "metadata": {
        "colab": {
          "base_uri": "https://localhost:8080/"
        },
        "id": "gxPgo1_yzprE",
        "outputId": "31aade3e-33bc-4717-faa1-f661da9cc741"
      },
      "outputs": [
        {
          "output_type": "stream",
          "name": "stdout",
          "text": [
            "Writing PiPara2.c\n"
          ]
        }
      ],
      "source": [
        "%%writefile PiPara2.c\n",
        "#include<stdio.h>\n",
        "#include<stdlib.h>\n",
        "#include<omp.h>\n",
        "#define MIN(x,y) ((x<y)?x:y)\n",
        "static long num_steps = 100000000;\n",
        "double step;\n",
        "int main()\n",
        "{\n",
        "int NThreads = 32,actual_NThreads;\n",
        "double pi;\n",
        "double sum[NThreads];\n",
        "double start_time, run_time;\n",
        "step = 1/(double)num_steps;\n",
        "omp_set_num_threads(NThreads);\n",
        "int chunk_size = num_steps/NThreads;\n",
        "#pragma omp parallel\n",
        "{\n",
        "double x;\n",
        "int tid = omp_get_thread_num();\n",
        "int numThreads = omp_get_num_threads();\n",
        "if(tid == 0)\n",
        "{\n",
        "actual_NThreads = numThreads;\n",
        "}\n",
        "sum[tid] = 0.0;\n",
        "int lower = tid * chunk_size;\n",
        "int upper = (tid + 1) * chunk_size;\n",
        "for(int i = lower; i < MIN(upper,num_steps); i++)\n",
        "{\n",
        "x = (i + 0.5)*step;\n",
        "sum[tid] += 4.0/(1.0 + x * x);\n",
        "}\n",
        "}\n",
        "pi = 0.0;\n",
        "for(int i = 0; i < actual_NThreads; i++)\n",
        "{\n",
        "pi += sum[i];\n",
        "}\n",
        "pi = step*pi;\n",
        "printf(\"\\n Pi value = %f total time = %f \",pi, run_time);\n",
        "return 0;\n",
        "}"
      ]
    },
    {
      "cell_type": "code",
      "execution_count": 35,
      "metadata": {
        "id": "97QXSOirzxaQ"
      },
      "outputs": [],
      "source": [
        "!gcc -fopenmp PiPara2.c -o PiPara2"
      ]
    },
    {
      "cell_type": "code",
      "execution_count": 35,
      "metadata": {
        "id": "ch0jqumJ10LQ"
      },
      "outputs": [],
      "source": []
    },
    {
      "cell_type": "code",
      "execution_count": 36,
      "metadata": {
        "colab": {
          "base_uri": "https://localhost:8080/"
        },
        "id": "uQ0H8l1p0WTU",
        "outputId": "12bfd84b-3191-4b9b-c59a-a574d7d94c48"
      },
      "outputs": [
        {
          "output_type": "stream",
          "name": "stdout",
          "text": [
            "\n",
            " Pi value = 3.141593 total time = 0.000000 "
          ]
        }
      ],
      "source": [
        "!./PiPara2"
      ]
    },
    {
      "cell_type": "code",
      "execution_count": 37,
      "metadata": {
        "colab": {
          "base_uri": "https://localhost:8080/"
        },
        "id": "s5y4j5e_0ZoU",
        "outputId": "2eb48a94-e968-4437-9c27-373a3887d3e1"
      },
      "outputs": [
        {
          "output_type": "stream",
          "name": "stdout",
          "text": [
            "Writing Add.c\n"
          ]
        }
      ],
      "source": [
        "%%writefile Add.c\n",
        "#include <stdio.h>\n",
        "#include <omp.h>\n",
        "\n",
        "#define n 10\n",
        "\n",
        "int main()\n",
        "{\n",
        "\tdouble a[n];\n",
        "\tdouble sum=0;\n",
        "\tfloat startTime, endTime,execTime;\n",
        "\tint i;\n",
        "\tint omp_rank;\n",
        "\n",
        "\tstartTime = omp_get_wtime();\n",
        "\t#pragma omp parallel private (i) \\\\shared (a)\n",
        "\t{\n",
        "\t\t#pragma omp for\n",
        "\t\tfor(i=0;i<n;i++)\n",
        "\t\t{\n",
        "\t\t\tomp_rank = omp_get_thread_num();\n",
        "\t\t\ta[i] = i;  \t// Use Random function and assign a[i]\n",
        "\t\t\tsum = sum + a[i];\n",
        "\t\t\tprintf(\"The value of a[%d] = %lf and sum = %lf done by worker Thread ID = %d\\n\", i, a[i], sum, omp_rank);\n",
        "\t\t}\n",
        "\n",
        "\t}\n",
        "\tendTime = omp_get_wtime();\n",
        "\n",
        "\texecTime = endTime - startTime;\n",
        "\tprintf(\"%f \\n\",execTime);\n",
        "\tprintf(\"\\n final sum =%lf\",sum);\n",
        "\treturn(0);\n",
        "}\n",
        "\n",
        "\n"
      ]
    },
    {
      "cell_type": "code",
      "execution_count": 38,
      "metadata": {
        "id": "YcdsuMCZ11Gr",
        "colab": {
          "base_uri": "https://localhost:8080/"
        },
        "outputId": "96773955-064f-4b85-9f36-7cd392136af3"
      },
      "outputs": [
        {
          "output_type": "stream",
          "name": "stdout",
          "text": [
            "\u001b[01m\u001b[KAdd.c:\u001b[m\u001b[K In function ‘\u001b[01m\u001b[Kmain\u001b[m\u001b[K’:\n",
            "\u001b[01m\u001b[KAdd.c:15:42:\u001b[m\u001b[K \u001b[01;31m\u001b[Kerror: \u001b[m\u001b[Kstray ‘\u001b[01m\u001b[K\\\u001b[m\u001b[K’ in program\n",
            "   15 |         #pragma omp parallel private (i) \u001b[01;31m\u001b[K\\\u001b[m\u001b[K\\shared (a)\n",
            "      |                                          \u001b[01;31m\u001b[K^\u001b[m\u001b[K\n",
            "\u001b[01m\u001b[KAdd.c:15:43:\u001b[m\u001b[K \u001b[01;31m\u001b[Kerror: \u001b[m\u001b[Kstray ‘\u001b[01m\u001b[K\\\u001b[m\u001b[K’ in program\n",
            "   15 |         #pragma omp parallel private (i) \\\u001b[01;31m\u001b[K\\\u001b[m\u001b[Kshared (a)\n",
            "      |                                           \u001b[01;31m\u001b[K^\u001b[m\u001b[K\n"
          ]
        }
      ],
      "source": [
        "!gcc -fopenmp Add.c -o Add"
      ]
    },
    {
      "cell_type": "code",
      "execution_count": 39,
      "metadata": {
        "colab": {
          "base_uri": "https://localhost:8080/"
        },
        "id": "ODCA954I14yz",
        "outputId": "518718dd-e476-44a0-e5b0-56151526b2b6"
      },
      "outputs": [
        {
          "output_type": "stream",
          "name": "stdout",
          "text": [
            "/bin/bash: line 1: ./Add: No such file or directory\n"
          ]
        }
      ],
      "source": [
        "!./Add\n"
      ]
    },
    {
      "cell_type": "code",
      "execution_count": 40,
      "metadata": {
        "colab": {
          "base_uri": "https://localhost:8080/"
        },
        "id": "wacdwwxn2MrC",
        "outputId": "fdb90dd8-c428-4428-b06a-0c02a9e13de8"
      },
      "outputs": [
        {
          "output_type": "stream",
          "name": "stdout",
          "text": [
            "Writing Add2.c\n"
          ]
        }
      ],
      "source": [
        "%%writefile Add2.c\n",
        "#include <stdio.h>\n",
        "#include <omp.h>\n",
        "\n",
        "#define n 10\n",
        "\n",
        "int main()\n",
        "{\n",
        "\tdouble a[n];\n",
        "\tdouble sum=0, psum;\n",
        "\tfloat startTime, endTime,execTime;\n",
        "\tint i;\n",
        "\tint omp_rank;\n",
        "\n",
        "\tstartTime = omp_get_wtime();\n",
        "\t#pragma omp parallel private (i,psum) shared (a, sum)\n",
        "\t{\n",
        "\t\tpsum=0;\n",
        "\t\t#pragma omp  for\n",
        "\t\tfor(i=0;i<n;i++)\n",
        "\t\t{\n",
        "\t\t\tomp_rank = omp_get_thread_num();\n",
        "\t\t\ta[i] = i ;  \t// Use Random function and assign a[i]\n",
        "\t\t\tpsum = psum + a[i];\n",
        "\t\t\tprintf(\"The value of a[%d] = %f and psum = %f done by worker Thread ID = %d\\n\", i, a[i], psum, omp_rank);\n",
        "\t\t}\n",
        "\t\t#pragma omp critical(dosum)\n",
        "\t\t{\n",
        "\t\t\t//omp_rank = omp_get_thread_num();\n",
        "\t\t\tsum = sum + psum;\n",
        "\t\t\tprintf(\"Final Sum = %f\\n\", sum);\n",
        "\t\t}\n",
        "\n",
        "\t}\n",
        "\tendTime = omp_get_wtime();\n",
        "\n",
        "\texecTime = endTime - startTime;\n",
        "\tprintf(\"%f \\n\",execTime);\n",
        "\treturn(0);\n",
        "}\n"
      ]
    },
    {
      "cell_type": "code",
      "execution_count": 41,
      "metadata": {
        "id": "LAzV7V7R6_wS"
      },
      "outputs": [],
      "source": [
        "!gcc -fopenmp Add2.c -o Add2"
      ]
    },
    {
      "cell_type": "code",
      "execution_count": 42,
      "metadata": {
        "colab": {
          "base_uri": "https://localhost:8080/"
        },
        "id": "Zo3u11Zw7EI4",
        "outputId": "5d9c5fdb-0d86-4b35-f463-496a81b8df1d"
      },
      "outputs": [
        {
          "output_type": "stream",
          "name": "stdout",
          "text": [
            "The value of a[3] = 3.000000 and psum = 3.000000 done by worker Thread ID = 1\n",
            "The value of a[4] = 4.000000 and psum = 7.000000 done by worker Thread ID = 1\n",
            "The value of a[5] = 5.000000 and psum = 12.000000 done by worker Thread ID = 1\n",
            "The value of a[6] = 6.000000 and psum = 6.000000 done by worker Thread ID = 2\n",
            "The value of a[7] = 7.000000 and psum = 13.000000 done by worker Thread ID = 2\n",
            "The value of a[8] = 8.000000 and psum = 8.000000 done by worker Thread ID = 3\n",
            "The value of a[9] = 9.000000 and psum = 17.000000 done by worker Thread ID = 3\n",
            "The value of a[0] = 0.000000 and psum = 0.000000 done by worker Thread ID = 0\n",
            "The value of a[1] = 1.000000 and psum = 1.000000 done by worker Thread ID = 0\n",
            "The value of a[2] = 2.000000 and psum = 3.000000 done by worker Thread ID = 0\n",
            "Final Sum = 12.000000\n",
            "Final Sum = 25.000000\n",
            "Final Sum = 42.000000\n",
            "Final Sum = 45.000000\n",
            "0.000488 \n"
          ]
        }
      ],
      "source": [
        "!./Add2"
      ]
    },
    {
      "cell_type": "code",
      "execution_count": 43,
      "metadata": {
        "colab": {
          "base_uri": "https://localhost:8080/"
        },
        "id": "bOABDBeo7Fqo",
        "outputId": "7a106f3f-b361-4b8b-cd4c-a3c2122d13b7"
      },
      "outputs": [
        {
          "output_type": "stream",
          "name": "stdout",
          "text": [
            "Writing reduct.c\n"
          ]
        }
      ],
      "source": [
        "%%writefile reduct.c\n",
        "#include <stdio.h>\n",
        "#include <omp.h>\n",
        "\n",
        "#define n 10\n",
        "\n",
        "int main()\n",
        "{\n",
        "\tdouble a[n];\n",
        "\tdouble sum=0;\n",
        "\tfloat startTime, endTime,execTime;\n",
        "\tint i;\n",
        "\tint omp_rank;\n",
        "\n",
        "\tstartTime = omp_get_wtime();\n",
        "\t#pragma omp parallel private (i) shared (a) reduction(+:sum)\n",
        "\t{\n",
        "\t\t#pragma omp for\n",
        "\t\tfor(i=0;i<n;i++)\n",
        "\t\t{\n",
        "\t\t\tomp_rank = omp_get_thread_num();\n",
        "\t\t\ta[i] = i; //* 10.236;  \t// Use Random function and assign a[i]\n",
        "\t\t\tsum = sum + a[i];\n",
        "\t\t\tprintf(\"The value of a[%d] = %lf and sum = %lf done by worker Thread ID = %d\\n\", i, a[i], sum, omp_rank);\n",
        "\t\t}\n",
        "\n",
        "\t}\n",
        "\tendTime = omp_get_wtime();\n",
        "\tprintf(\"\\n Final Sum is %f\\n\", sum );\n",
        "\texecTime = endTime - startTime;\n",
        "\tprintf(\"%f \\n\",execTime);\n",
        "\treturn(0);\n",
        "}\n"
      ]
    },
    {
      "cell_type": "code",
      "execution_count": 44,
      "metadata": {
        "id": "z6hfM--j7sz4"
      },
      "outputs": [],
      "source": [
        "!gcc -fopenmp reduct.c -o reduct"
      ]
    },
    {
      "cell_type": "code",
      "execution_count": 45,
      "metadata": {
        "colab": {
          "base_uri": "https://localhost:8080/"
        },
        "id": "C_0VF59M7zMX",
        "outputId": "3348c4bf-d89b-46d8-f96a-e37249cbf6fb"
      },
      "outputs": [
        {
          "output_type": "stream",
          "name": "stdout",
          "text": [
            "The value of a[0] = 0.000000 and sum = 0.000000 done by worker Thread ID = 0\n",
            "The value of a[1] = 1.000000 and sum = 1.000000 done by worker Thread ID = 0\n",
            "The value of a[2] = 2.000000 and sum = 3.000000 done by worker Thread ID = 0\n",
            "The value of a[8] = 8.000000 and sum = 8.000000 done by worker Thread ID = 3\n",
            "The value of a[9] = 9.000000 and sum = 17.000000 done by worker Thread ID = 3\n",
            "The value of a[3] = 3.000000 and sum = 3.000000 done by worker Thread ID = 1\n",
            "The value of a[4] = 4.000000 and sum = 7.000000 done by worker Thread ID = 1\n",
            "The value of a[5] = 5.000000 and sum = 12.000000 done by worker Thread ID = 1\n",
            "The value of a[6] = 6.000000 and sum = 6.000000 done by worker Thread ID = 2\n",
            "The value of a[7] = 7.000000 and sum = 13.000000 done by worker Thread ID = 2\n",
            "\n",
            " Final Sum is 45.000000\n",
            "0.002769 \n"
          ]
        }
      ],
      "source": [
        "!./reduct"
      ]
    },
    {
      "cell_type": "code",
      "execution_count": 45,
      "metadata": {
        "id": "yL1gu7Gm70WN"
      },
      "outputs": [],
      "source": []
    }
  ],
  "metadata": {
    "colab": {
      "provenance": []
    },
    "kernelspec": {
      "display_name": "Python 3",
      "name": "python3"
    },
    "language_info": {
      "name": "python"
    }
  },
  "nbformat": 4,
  "nbformat_minor": 0
}