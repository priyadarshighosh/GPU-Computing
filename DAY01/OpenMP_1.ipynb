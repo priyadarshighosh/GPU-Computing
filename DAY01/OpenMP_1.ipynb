{
  "cells": [
    {
      "cell_type": "markdown",
      "metadata": {
        "id": "ENGaGh4hTmBW"
      },
      "source": [
        "# Execute a C code"
      ]
    },
    {
      "cell_type": "code",
      "execution_count": 4,
      "metadata": {
        "id": "S48exl62Py0c",
        "colab": {
          "base_uri": "https://localhost:8080/"
        },
        "outputId": "accd7d91-9468-40fa-beae-28a33bc459a2"
      },
      "outputs": [
        {
          "output_type": "stream",
          "name": "stdout",
          "text": [
            "Writing Hello.c\n"
          ]
        }
      ],
      "source": [
        "%%writefile Hello.c\n",
        "#include<stdio.h>\n",
        "int main()\n",
        "{\n",
        "    printf(\"Hello world\");\n",
        "}"
      ]
    },
    {
      "cell_type": "code",
      "execution_count": null,
      "metadata": {
        "colab": {
          "base_uri": "https://localhost:8080/"
        },
        "id": "jiOwbHGnQUGP",
        "outputId": "ef692435-12f0-4da9-b6b3-5cf4a2b499c2"
      },
      "outputs": [
        {
          "name": "stdout",
          "output_type": "stream",
          "text": [
            "\u001b[01m\u001b[Kcc1:\u001b[m\u001b[K \u001b[01;31m\u001b[Kfatal error: \u001b[m\u001b[KHello.c: No such file or directory\n",
            "compilation terminated.\n"
          ]
        }
      ],
      "source": [
        "!gcc Hello.c -o Hello"
      ]
    },
    {
      "cell_type": "code",
      "execution_count": null,
      "metadata": {
        "colab": {
          "background_save": true,
          "base_uri": "https://localhost:8080/"
        },
        "id": "KzoHw96JQf0M",
        "outputId": "5c5c4a90-e41e-4ed3-824b-b34e13475efd"
      },
      "outputs": [
        {
          "name": "stdout",
          "output_type": "stream",
          "text": [
            "Hello world"
          ]
        }
      ],
      "source": [
        "!./Hello"
      ]
    },
    {
      "cell_type": "markdown",
      "metadata": {
        "id": "O_pEBLU3TulZ"
      },
      "source": [
        "# OpenMP Program"
      ]
    },
    {
      "cell_type": "code",
      "execution_count": 6,
      "metadata": {
        "colab": {
          "base_uri": "https://localhost:8080/"
        },
        "id": "Z1Yqy_uBQiIK",
        "outputId": "009db2d1-f29f-4a18-80b4-fb5dc2d0a47f"
      },
      "outputs": [
        {
          "output_type": "stream",
          "name": "stdout",
          "text": [
            "Overwriting HelloOMP.c\n"
          ]
        }
      ],
      "source": [
        "%%writefile HelloOMP.c\n",
        "#include<stdio.h>\n",
        "#include<omp.h>\n",
        "int main()\n",
        "{\n",
        "#pragma omp parallel\n",
        "{\n",
        "    printf(\"Hello world from OpenOMP\\n\");\n",
        "}\n",
        "}"
      ]
    },
    {
      "cell_type": "code",
      "execution_count": 2,
      "metadata": {
        "id": "vOrhreNHRmWh"
      },
      "outputs": [],
      "source": [
        "!gcc HelloOMP.c -o HelloOMP"
      ]
    },
    {
      "cell_type": "code",
      "execution_count": 7,
      "metadata": {
        "colab": {
          "base_uri": "https://localhost:8080/"
        },
        "id": "JS1nzhfYRqdX",
        "outputId": "e19338a5-4380-4f6a-e7f5-be86e9eff9d3"
      },
      "outputs": [
        {
          "output_type": "stream",
          "name": "stdout",
          "text": [
            "Hello world from OpenOMP\n"
          ]
        }
      ],
      "source": [
        "!./HelloOMP"
      ]
    },
    {
      "cell_type": "code",
      "execution_count": null,
      "metadata": {
        "id": "AN6GnpkRRut_"
      },
      "outputs": [],
      "source": [
        "!gcc -fopenmp HelloOMP.c -o HelloOMP"
      ]
    },
    {
      "cell_type": "code",
      "execution_count": 8,
      "metadata": {
        "colab": {
          "base_uri": "https://localhost:8080/"
        },
        "id": "_GbT9zOnSvNN",
        "outputId": "c9b8a4dd-fc6a-4fdf-f4aa-767370a8ed59"
      },
      "outputs": [
        {
          "output_type": "stream",
          "name": "stdout",
          "text": [
            "Hello world from OpenOMP\n"
          ]
        }
      ],
      "source": [
        "!./HelloOMP"
      ]
    },
    {
      "cell_type": "markdown",
      "metadata": {
        "id": "KD83JVBWUHi7"
      },
      "source": [
        "# Number of Threads"
      ]
    },
    {
      "cell_type": "code",
      "execution_count": 9,
      "metadata": {
        "colab": {
          "base_uri": "https://localhost:8080/"
        },
        "id": "4yg4fnZTSyk6",
        "outputId": "8812cf26-debe-47b6-f513-47fee10b6089"
      },
      "outputs": [
        {
          "output_type": "stream",
          "name": "stdout",
          "text": [
            "Writing NumTh.c\n"
          ]
        }
      ],
      "source": [
        "%%writefile NumTh.c\n",
        "#include<stdio.h>\n",
        "#include<omp.h>\n",
        "int main()\n",
        "{\n",
        "#pragma omp parallel\n",
        "{\n",
        "    printf(\"Hello world from OpenOMP\\n\");\n",
        "    int numt=omp_get_num_threads();\n",
        "    printf(\"Number of threads in my program is  %d\\n\",numt);\n",
        "}\n",
        "}"
      ]
    },
    {
      "cell_type": "code",
      "execution_count": 10,
      "metadata": {
        "id": "lysjJlUOTXdT"
      },
      "outputs": [],
      "source": [
        "!gcc -fopenmp NumTh.c -o NumTh"
      ]
    },
    {
      "cell_type": "code",
      "execution_count": 11,
      "metadata": {
        "colab": {
          "base_uri": "https://localhost:8080/"
        },
        "id": "iOZOEtPVU080",
        "outputId": "2aac1124-43e6-4282-ebad-34b417d1c0e1"
      },
      "outputs": [
        {
          "output_type": "stream",
          "name": "stdout",
          "text": [
            "Hello world from OpenOMP\n",
            "Hello world from OpenOMP\n",
            "Number of threads in my program is  2\n",
            "Number of threads in my program is  2\n"
          ]
        }
      ],
      "source": [
        "!./NumTh"
      ]
    },
    {
      "cell_type": "code",
      "execution_count": 12,
      "metadata": {
        "colab": {
          "base_uri": "https://localhost:8080/"
        },
        "id": "JfGDp8U5U3IL",
        "outputId": "bbef9bd3-3f7f-4b8e-c8f1-287b81b09d96"
      },
      "outputs": [
        {
          "output_type": "stream",
          "name": "stdout",
          "text": [
            "Hello.c  HelloOMP  HelloOMP.c  NumTh  NumTh.c  sample_data\n"
          ]
        }
      ],
      "source": [
        "!ls"
      ]
    },
    {
      "cell_type": "code",
      "execution_count": 13,
      "metadata": {
        "colab": {
          "base_uri": "https://localhost:8080/"
        },
        "id": "xOqyQCdVW2NT",
        "outputId": "2990f890-bdef-418b-f3ff-c5953f004f64"
      },
      "outputs": [
        {
          "output_type": "stream",
          "name": "stdout",
          "text": [
            "env: OMP_NUM_THREADS=4\n"
          ]
        }
      ],
      "source": [
        "%env OMP_NUM_THREADS=4"
      ]
    },
    {
      "cell_type": "code",
      "execution_count": 14,
      "metadata": {
        "id": "XcCLx2mSXIck"
      },
      "outputs": [],
      "source": [
        "!gcc -fopenmp NumTh.c -o NumTh"
      ]
    },
    {
      "cell_type": "code",
      "execution_count": 15,
      "metadata": {
        "colab": {
          "base_uri": "https://localhost:8080/"
        },
        "id": "0t0jIoQZXMiN",
        "outputId": "ff3ad5d1-16b4-4675-c608-cc06e877b343"
      },
      "outputs": [
        {
          "output_type": "stream",
          "name": "stdout",
          "text": [
            "Hello world from OpenOMP\n",
            "Number of threads in my program is  4\n",
            "Hello world from OpenOMP\n",
            "Number of threads in my program is  4\n",
            "Hello world from OpenOMP\n",
            "Number of threads in my program is  4\n",
            "Hello world from OpenOMP\n",
            "Number of threads in my program is  4\n"
          ]
        }
      ],
      "source": [
        "!./NumTh"
      ]
    },
    {
      "cell_type": "markdown",
      "metadata": {
        "id": "dJW32ESfY-bP"
      },
      "source": [
        "# Thread ID\n",
        "Each thread will have copies of numthread and thid"
      ]
    },
    {
      "cell_type": "code",
      "execution_count": 16,
      "metadata": {
        "colab": {
          "base_uri": "https://localhost:8080/"
        },
        "id": "gPLXBFwgXW8D",
        "outputId": "9df66008-e71e-463c-e667-940c85b1612f"
      },
      "outputs": [
        {
          "output_type": "stream",
          "name": "stdout",
          "text": [
            "Writing ThID.c\n"
          ]
        }
      ],
      "source": [
        "%%writefile ThID.c\n",
        "#include<stdio.h>\n",
        "#include<omp.h>\n",
        "int main()\n",
        "{\n",
        "#pragma omp parallel\n",
        "{\n",
        "    printf(\"Hello world from OpenOMP\\n\");\n",
        "    int numt=omp_get_num_threads();\n",
        "    printf(\"Number of threads in my program is  %d\\n\",numt);\n",
        "    int thid=omp_get_thread_num();\n",
        "    printf(\"My thread ID is %d\\n\",thid);\n",
        "}\n",
        "}"
      ]
    },
    {
      "cell_type": "code",
      "execution_count": 17,
      "metadata": {
        "colab": {
          "base_uri": "https://localhost:8080/"
        },
        "id": "hN67JnlEZvda",
        "outputId": "61b8c0e3-faf3-4825-8139-2403101e1aa9"
      },
      "outputs": [
        {
          "output_type": "stream",
          "name": "stdout",
          "text": [
            "Hello world from OpenOMP\n",
            "Number of threads in my program is  4\n",
            "My thread ID is 1\n",
            "Hello world from OpenOMP\n",
            "Number of threads in my program is  4\n",
            "My thread ID is 2\n",
            "Hello world from OpenOMP\n",
            "Number of threads in my program is  4\n",
            "My thread ID is 3\n",
            "Hello world from OpenOMP\n",
            "Number of threads in my program is  4\n",
            "My thread ID is 0\n"
          ]
        }
      ],
      "source": [
        "!gcc -fopenmp ThID.c -o ThID\n",
        "!./ThID"
      ]
    },
    {
      "cell_type": "code",
      "execution_count": 18,
      "metadata": {
        "colab": {
          "base_uri": "https://localhost:8080/"
        },
        "id": "b3fqxxU8r0gt",
        "outputId": "a49bb227-1e5d-436e-ac3c-96be07afc8d5"
      },
      "outputs": [
        {
          "output_type": "stream",
          "name": "stdout",
          "text": [
            "env: OMP_NUM_THREADS=4\n"
          ]
        }
      ],
      "source": [
        "%env OMP_NUM_THREADS=4"
      ]
    },
    {
      "cell_type": "code",
      "source": [],
      "metadata": {
        "id": "550Pflgna5MV"
      },
      "execution_count": null,
      "outputs": []
    },
    {
      "cell_type": "markdown",
      "metadata": {
        "id": "iR-lDXQ-auGe"
      },
      "source": [
        "Within one thread the statements are executed sequentially\n",
        "Between threads, the order is not determined\n",
        "Threads may interleaved. Because it is completely dynamic"
      ]
    },
    {
      "cell_type": "code",
      "execution_count": null,
      "metadata": {
        "colab": {
          "base_uri": "https://localhost:8080/"
        },
        "id": "ltMuKlLjZ3de",
        "outputId": "6214432e-0122-4534-81f3-d63d7ada0433"
      },
      "outputs": [
        {
          "name": "stdout",
          "output_type": "stream",
          "text": [
            "Overwriting ShaPri.c\n"
          ]
        }
      ],
      "source": [
        "%%writefile ShaPri.c\n",
        "#include<stdio.h>\n",
        "#include<omp.h>\n",
        "int main()\n",
        "{\n",
        "  int sum=0;\n",
        "\n",
        "#pragma omp parallel\n",
        "{\n",
        "    int thid=omp_get_thread_num();\n",
        "    printf(\"My thread ID is %d\\n\",thid);\n",
        "    sum=sum+1;\n",
        "}\n",
        "printf(\"Sum is %d\\n\",sum);\n",
        "}"
      ]
    },
    {
      "cell_type": "code",
      "execution_count": null,
      "metadata": {
        "id": "LtebIwBPjBiK"
      },
      "outputs": [],
      "source": [
        "!gcc -fopenmp ShaPri.c -o ShaPri\n"
      ]
    },
    {
      "cell_type": "code",
      "execution_count": null,
      "metadata": {
        "colab": {
          "base_uri": "https://localhost:8080/"
        },
        "id": "pkO9To5vtmrG",
        "outputId": "4cb08eba-36b7-4354-f604-7be7d1e874d1"
      },
      "outputs": [
        {
          "name": "stdout",
          "output_type": "stream",
          "text": [
            "My thread ID is 3\n",
            "My thread ID is 0\n",
            "My thread ID is 2\n",
            "My thread ID is 1\n",
            "Sum is 4\n"
          ]
        }
      ],
      "source": [
        "!./ShaPri"
      ]
    },
    {
      "cell_type": "code",
      "execution_count": null,
      "metadata": {
        "colab": {
          "base_uri": "https://localhost:8080/"
        },
        "id": "rrqcdsz7vtTv",
        "outputId": "d11546d8-74f5-4ad5-ab7d-7ee867e4b24e"
      },
      "outputs": [
        {
          "name": "stdout",
          "output_type": "stream",
          "text": [
            "Overwriting Pi1.c\n"
          ]
        }
      ],
      "source": [
        "%%writefile Pi1.c\n",
        "#include<stdio.h>\n",
        "#include<stdlib.h>\n",
        "#include<omp.h>\n",
        "static long num_steps = 100000000;\n",
        "double step;\n",
        "int main()\n",
        "{\n",
        "int i;\n",
        "double x, pi, sum = 0.0;\n",
        "double start_time, run_time;\n",
        "step = 1/(double)num_steps;\n",
        "start_time = omp_get_wtime();\n",
        "for(i = 0; i < num_steps; i++)\n",
        "{\n",
        "x = (i + 0.5)*step;\n",
        "sum += 4.0/(1.0 + x * x);\n",
        "}\n",
        "pi = step * sum;\n",
        "run_time = omp_get_wtime() - start_time;\n",
        "printf(\"\\n Pi value = %f total time = %f \",pi,run_time);\n",
        "return 0;\n",
        "}"
      ]
    },
    {
      "cell_type": "code",
      "execution_count": null,
      "metadata": {
        "id": "hyDChaTGv391"
      },
      "outputs": [],
      "source": [
        "!gcc -fopenmp Pi1.c -o Pi1"
      ]
    },
    {
      "cell_type": "code",
      "execution_count": null,
      "metadata": {
        "colab": {
          "base_uri": "https://localhost:8080/"
        },
        "id": "kv-xcudsv_QT",
        "outputId": "638485aa-35fb-4950-e4c1-56faf4393881"
      },
      "outputs": [
        {
          "name": "stdout",
          "output_type": "stream",
          "text": [
            "\n",
            " Pi value = 3.141593 total time = 0.345569 "
          ]
        }
      ],
      "source": [
        "!./Pi1"
      ]
    },
    {
      "cell_type": "code",
      "execution_count": null,
      "metadata": {
        "colab": {
          "base_uri": "https://localhost:8080/"
        },
        "id": "SU2zQTXFm2ea",
        "outputId": "4b7b823b-7565-4ec1-834a-844da5a944a6"
      },
      "outputs": [
        {
          "name": "stdout",
          "output_type": "stream",
          "text": [
            "Overwriting paraloop.c\n"
          ]
        }
      ],
      "source": [
        "%%writefile paraloop.c\n",
        "#include<stdio.h>\n",
        "#include<omp.h>\n",
        "int main()\n",
        "{\n",
        "int sum=0;\n",
        "int i;\n",
        "#pragma omp parallel private(i) shared(sum)\n",
        "{\n",
        "\n",
        "    printf(\"Hello world from OpenOMP\\n\");\n",
        "    #pragma omp for\n",
        "    for(int i=0;i<10;i++)\n",
        "    {\n",
        "      sum=sum+i;\n",
        "      printf(\"iteration  is %d sum is %d\\n\",i,sum);\n",
        "    }\n",
        "}\n",
        "printf(\"the final sum is%d\",sum);\n",
        "}"
      ]
    },
    {
      "cell_type": "code",
      "execution_count": null,
      "metadata": {
        "id": "_vnqWiIQncEH"
      },
      "outputs": [],
      "source": [
        "!gcc -fopenmp paraloop.c -o paraloop"
      ]
    },
    {
      "cell_type": "code",
      "execution_count": null,
      "metadata": {
        "colab": {
          "base_uri": "https://localhost:8080/"
        },
        "id": "IZS9yW79nI-k",
        "outputId": "b85a84c5-a3e4-4537-ebd9-ac1ebcd12cab"
      },
      "outputs": [
        {
          "name": "stdout",
          "output_type": "stream",
          "text": [
            "Overwriting Paralloop.c\n"
          ]
        }
      ],
      "source": [
        "%%writefile Paralloop.c\n",
        "#include<stdio.h>\n",
        "#include<omp.h>\n",
        "int main()\n",
        "{\n",
        "  int sum=0;\n",
        "#pragma omp parallel\n",
        "{\n",
        "   #pragma omp for\n",
        "    for(int i=0;i<10;i++)\n",
        "    {\n",
        "      sum=sum+i;\n",
        "      printf(\"iteration  is %d sum is %d\\n\",i,sum);\n",
        "    }\n",
        "}\n",
        "printf(\"the sum is %d\\n\",sum);\n",
        "}"
      ]
    },
    {
      "cell_type": "code",
      "execution_count": null,
      "metadata": {
        "id": "WN8LA_cqnrhe"
      },
      "outputs": [],
      "source": [
        "!gcc -fopenmp Paralloop.c -o Paralloop"
      ]
    },
    {
      "cell_type": "code",
      "execution_count": null,
      "metadata": {
        "colab": {
          "base_uri": "https://localhost:8080/"
        },
        "id": "Kmgg6U3ypXLH",
        "outputId": "6b10fb30-88e8-492b-e27b-c48a76f92b94"
      },
      "outputs": [
        {
          "name": "stdout",
          "output_type": "stream",
          "text": [
            "iteration  is 0 sum is 0\n",
            "iteration  is 1 sum is 1\n",
            "iteration  is 2 sum is 3\n",
            "iteration  is 6 sum is 9\n",
            "iteration  is 7 sum is 16\n",
            "iteration  is 3 sum is 19\n",
            "iteration  is 4 sum is 23\n",
            "iteration  is 5 sum is 28\n",
            "iteration  is 8 sum is 36\n",
            "iteration  is 9 sum is 45\n",
            "the sum is 45\n"
          ]
        }
      ],
      "source": [
        "!./Paralloop"
      ]
    },
    {
      "cell_type": "code",
      "execution_count": null,
      "metadata": {
        "colab": {
          "base_uri": "https://localhost:8080/"
        },
        "id": "tgMAk5KBnxPp",
        "outputId": "3a4076b2-c1db-41f4-8a82-5b43f7bebbdd"
      },
      "outputs": [
        {
          "name": "stdout",
          "output_type": "stream",
          "text": [
            "Hello world from OpenOMP\n",
            "iteration  is 0 sum is 0\n",
            "iteration  is 1 sum is 1\n",
            "iteration  is 2 sum is 3\n",
            "iteration  is 3 sum is 6\n",
            "iteration  is 4 sum is 10\n",
            "iteration  is 5 sum is 15\n",
            "iteration  is 6 sum is 21\n",
            "iteration  is 7 sum is 28\n",
            "iteration  is 8 sum is 36\n",
            "iteration  is 9 sum is 45\n",
            "Hello world from OpenOMP\n",
            "iteration  is 0 sum is 45\n",
            "iteration  is 1 sum is 46\n",
            "iteration  is 2 sum is 48\n",
            "iteration  is 3 sum is 51\n",
            "iteration  is 4 sum is 55\n",
            "iteration  is 5 sum is 60\n",
            "iteration  is 6 sum is 66\n",
            "iteration  is 7 sum is 73\n",
            "iteration  is 8 sum is 81\n",
            "iteration  is 9 sum is 90\n",
            "Hello world from OpenOMP\n",
            "iteration  is 0 sum is 90\n",
            "iteration  is 1 sum is 91\n",
            "iteration  is 2 sum is 93\n",
            "iteration  is 3 sum is 96\n",
            "iteration  is 4 sum is 100\n",
            "iteration  is 5 sum is 105\n",
            "iteration  is 6 sum is 111\n",
            "iteration  is 7 sum is 118\n",
            "iteration  is 8 sum is 126\n",
            "iteration  is 9 sum is 135\n",
            "Hello world from OpenOMP\n",
            "iteration  is 0 sum is 135\n",
            "iteration  is 1 sum is 136\n",
            "iteration  is 2 sum is 138\n",
            "iteration  is 3 sum is 141\n",
            "iteration  is 4 sum is 145\n",
            "iteration  is 5 sum is 150\n",
            "iteration  is 6 sum is 156\n",
            "iteration  is 7 sum is 163\n",
            "iteration  is 8 sum is 171\n",
            "iteration  is 9 sum is 180\n",
            "the final sum is180"
          ]
        }
      ],
      "source": [
        "!./Paraloop"
      ]
    },
    {
      "cell_type": "code",
      "execution_count": null,
      "metadata": {
        "colab": {
          "base_uri": "https://localhost:8080/"
        },
        "id": "2UYDbxvVwAvW",
        "outputId": "a595522e-11c7-44b4-ddec-6bfebaef78f1"
      },
      "outputs": [
        {
          "name": "stdout",
          "output_type": "stream",
          "text": [
            "Overwriting PiPara.c\n"
          ]
        }
      ],
      "source": [
        "%%writefile PiPara.c\n",
        "#include<stdio.h>\n",
        "#include<stdlib.h>\n",
        "#include<omp.h>\n",
        "#define MIN(x,y) ((x<y)?x:y)\n",
        "static long num_steps = 100000000;\n",
        "double step;\n",
        "int main()\n",
        "{\n",
        "int NThreads = 4;\n",
        "double x, pi, sum = 0.0;\n",
        "double start_time, run_time;\n",
        "step = 1/(double)num_steps;\n",
        "omp_set_num_threads(NThreads);\n",
        "int chunk_size = num_steps/NThreads;\n",
        "start_time = omp_get_wtime();\n",
        "#pragma omp parallel\n",
        "{\n",
        "int tid = omp_get_thread_num();\n",
        "int lower = tid * chunk_size;\n",
        "int upper = (tid + 1) * chunk_size;\n",
        "for(int i = lower; i < MIN(upper, num_steps); i++)\n",
        "{\n",
        "x = (i + 0.5)*step;\n",
        "sum += 4.0/(1.0 + x * x);\n",
        "}\n",
        "}\n",
        "pi = step * sum;\n",
        "run_time = omp_get_wtime() - start_time;\n",
        "printf(\"\\n Pi value = %f total time = %f \",pi, run_time);\n",
        "return 0;\n",
        "}"
      ]
    },
    {
      "cell_type": "code",
      "execution_count": null,
      "metadata": {
        "id": "gY1ybuzIxhVT"
      },
      "outputs": [],
      "source": [
        "!gcc -fopenmp PiPara.c -o PiPara"
      ]
    },
    {
      "cell_type": "code",
      "execution_count": null,
      "metadata": {
        "colab": {
          "base_uri": "https://localhost:8080/"
        },
        "id": "Gp_VvA00xqMo",
        "outputId": "91b1f928-dc87-41ba-9fe9-9ab4dcc2bd8f"
      },
      "outputs": [
        {
          "name": "stdout",
          "output_type": "stream",
          "text": [
            "\n",
            " Pi value = 1.768540 total time = 1.184982 "
          ]
        }
      ],
      "source": [
        "!./PiPara"
      ]
    },
    {
      "cell_type": "code",
      "execution_count": null,
      "metadata": {
        "colab": {
          "base_uri": "https://localhost:8080/"
        },
        "id": "gxPgo1_yzprE",
        "outputId": "6150a64a-aec4-4317-972f-2099dbf29b2e"
      },
      "outputs": [
        {
          "name": "stdout",
          "output_type": "stream",
          "text": [
            "Overwriting PiPara2.c\n"
          ]
        }
      ],
      "source": [
        "%%writefile PiPara2.c\n",
        "#include<stdio.h>\n",
        "#include<stdlib.h>\n",
        "#include<omp.h>\n",
        "#define MIN(x,y) ((x<y)?x:y)\n",
        "static long num_steps = 100000000;\n",
        "double step;\n",
        "int main()\n",
        "{\n",
        "int NThreads = 32,actual_NThreads;\n",
        "double pi;\n",
        "double sum[NThreads];\n",
        "double start_time, run_time;\n",
        "step = 1/(double)num_steps;\n",
        "omp_set_num_threads(NThreads);\n",
        "int chunk_size = num_steps/NThreads;\n",
        "#pragma omp parallel\n",
        "{\n",
        "double x;\n",
        "int tid = omp_get_thread_num();\n",
        "int numThreads = omp_get_num_threads();\n",
        "if(tid == 0)\n",
        "{\n",
        "actual_NThreads = numThreads;\n",
        "}\n",
        "sum[tid] = 0.0;\n",
        "int lower = tid * chunk_size;\n",
        "int upper = (tid + 1) * chunk_size;\n",
        "for(int i = lower; i < MIN(upper,num_steps); i++)\n",
        "{\n",
        "x = (i + 0.5)*step;\n",
        "sum[tid] += 4.0/(1.0 + x * x);\n",
        "}\n",
        "}\n",
        "pi = 0.0;\n",
        "for(int i = 0; i < actual_NThreads; i++)\n",
        "{\n",
        "pi += sum[i];\n",
        "}\n",
        "pi = step*pi;\n",
        "printf(\"\\n Pi value = %f total time = %f \",pi, run_time);\n",
        "return 0;\n",
        "}"
      ]
    },
    {
      "cell_type": "code",
      "execution_count": null,
      "metadata": {
        "id": "97QXSOirzxaQ"
      },
      "outputs": [],
      "source": [
        "!gcc -fopenmp PiPara2.c -o PiPara2"
      ]
    },
    {
      "cell_type": "code",
      "execution_count": null,
      "metadata": {
        "id": "ch0jqumJ10LQ"
      },
      "outputs": [],
      "source": []
    },
    {
      "cell_type": "code",
      "execution_count": null,
      "metadata": {
        "colab": {
          "base_uri": "https://localhost:8080/"
        },
        "id": "uQ0H8l1p0WTU",
        "outputId": "0f35c31e-37ba-488f-84c5-d5b876039bf4"
      },
      "outputs": [
        {
          "name": "stdout",
          "output_type": "stream",
          "text": [
            "\n",
            " Pi value = 3.141593 total time = 0.000000 "
          ]
        }
      ],
      "source": [
        "!./PiPara2"
      ]
    },
    {
      "cell_type": "code",
      "execution_count": null,
      "metadata": {
        "colab": {
          "base_uri": "https://localhost:8080/"
        },
        "id": "s5y4j5e_0ZoU",
        "outputId": "49b1955c-ac9f-4258-fc5c-7f3a6f547263"
      },
      "outputs": [
        {
          "name": "stdout",
          "output_type": "stream",
          "text": [
            "Overwriting Add.c\n"
          ]
        }
      ],
      "source": [
        "%%writefile Add.c\n",
        "#include <stdio.h>\n",
        "#include <omp.h>\n",
        "\n",
        "#define n 10\n",
        "\n",
        "int main()\n",
        "{\n",
        "\tdouble a[n];\n",
        "\tdouble sum=0;\n",
        "\tfloat startTime, endTime,execTime;\n",
        "\tint i;\n",
        "\tint omp_rank;\n",
        "\n",
        "\tstartTime = omp_get_wtime();\n",
        "\t#pragma omp parallel private (i) \\\\shared (a)\n",
        "\t{\n",
        "\t\t#pragma omp for\n",
        "\t\tfor(i=0;i<n;i++)\n",
        "\t\t{\n",
        "\t\t\tomp_rank = omp_get_thread_num();\n",
        "\t\t\ta[i] = i;  \t// Use Random function and assign a[i]\n",
        "\t\t\tsum = sum + a[i];\n",
        "\t\t\tprintf(\"The value of a[%d] = %lf and sum = %lf done by worker Thread ID = %d\\n\", i, a[i], sum, omp_rank);\n",
        "\t\t}\n",
        "\n",
        "\t}\n",
        "\tendTime = omp_get_wtime();\n",
        "\n",
        "\texecTime = endTime - startTime;\n",
        "\tprintf(\"%f \\n\",execTime);\n",
        "\tprintf(\"\\n final sum =%lf\",sum);\n",
        "\treturn(0);\n",
        "}\n",
        "\n",
        "\n"
      ]
    },
    {
      "cell_type": "code",
      "execution_count": null,
      "metadata": {
        "id": "YcdsuMCZ11Gr"
      },
      "outputs": [],
      "source": [
        "!gcc -fopenmp Add.c -o Add"
      ]
    },
    {
      "cell_type": "code",
      "execution_count": null,
      "metadata": {
        "colab": {
          "base_uri": "https://localhost:8080/"
        },
        "id": "ODCA954I14yz",
        "outputId": "7fb229a2-eb8d-4569-e3b7-3a46f64828d2"
      },
      "outputs": [
        {
          "name": "stdout",
          "output_type": "stream",
          "text": [
            "The value of a[0] = 0.000000 and sum = 8.000000 done by worker Thread ID = 0\n",
            "The value of a[1] = 1.000000 and sum = 9.000000 done by worker Thread ID = 0\n",
            "The value of a[2] = 2.000000 and sum = 11.000000 done by worker Thread ID = 0\n",
            "The value of a[6] = 6.000000 and sum = 17.000000 done by worker Thread ID = 2\n",
            "The value of a[7] = 7.000000 and sum = 24.000000 done by worker Thread ID = 2\n",
            "The value of a[3] = 3.000000 and sum = 27.000000 done by worker Thread ID = 1\n",
            "The value of a[4] = 4.000000 and sum = 31.000000 done by worker Thread ID = 1\n",
            "The value of a[5] = 5.000000 and sum = 36.000000 done by worker Thread ID = 1\n",
            "The value of a[8] = 8.000000 and sum = 8.000000 done by worker Thread ID = 3\n",
            "The value of a[9] = 9.000000 and sum = 45.000000 done by worker Thread ID = 3\n",
            "0.003906 \n",
            "\n",
            " final sum =45.000000"
          ]
        }
      ],
      "source": [
        "!./Add\n"
      ]
    },
    {
      "cell_type": "code",
      "execution_count": null,
      "metadata": {
        "colab": {
          "base_uri": "https://localhost:8080/"
        },
        "id": "wacdwwxn2MrC",
        "outputId": "6b54b35a-318f-4391-ccca-ad60df52fca4"
      },
      "outputs": [
        {
          "name": "stdout",
          "output_type": "stream",
          "text": [
            "Writing Add2.c\n"
          ]
        }
      ],
      "source": [
        "%%writefile Add2.c\n",
        "#include <stdio.h>\n",
        "#include <omp.h>\n",
        "\n",
        "#define n 10\n",
        "\n",
        "int main()\n",
        "{\n",
        "\tdouble a[n];\n",
        "\tdouble sum=0, psum;\n",
        "\tfloat startTime, endTime,execTime;\n",
        "\tint i;\n",
        "\tint omp_rank;\n",
        "\n",
        "\tstartTime = omp_get_wtime();\n",
        "\t#pragma omp parallel private (i,psum) shared (a, sum)\n",
        "\t{\n",
        "\t\tpsum=0;\n",
        "\t\t#pragma omp  for\n",
        "\t\tfor(i=0;i<n;i++)\n",
        "\t\t{\n",
        "\t\t\tomp_rank = omp_get_thread_num();\n",
        "\t\t\ta[i] = i ;  \t// Use Random function and assign a[i]\n",
        "\t\t\tpsum = psum + a[i];\n",
        "\t\t\tprintf(\"The value of a[%d] = %f and psum = %f done by worker Thread ID = %d\\n\", i, a[i], psum, omp_rank);\n",
        "\t\t}\n",
        "\t\t#pragma omp critical(dosum)\n",
        "\t\t{\n",
        "\t\t\t//omp_rank = omp_get_thread_num();\n",
        "\t\t\tsum = sum + psum;\n",
        "\t\t\tprintf(\"Final Sum = %f\\n\", sum);\n",
        "\t\t}\n",
        "\n",
        "\t}\n",
        "\tendTime = omp_get_wtime();\n",
        "\n",
        "\texecTime = endTime - startTime;\n",
        "\tprintf(\"%f \\n\",execTime);\n",
        "\treturn(0);\n",
        "}\n"
      ]
    },
    {
      "cell_type": "code",
      "execution_count": null,
      "metadata": {
        "id": "LAzV7V7R6_wS"
      },
      "outputs": [],
      "source": [
        "!gcc -fopenmp Add2.c -o Add2"
      ]
    },
    {
      "cell_type": "code",
      "execution_count": null,
      "metadata": {
        "colab": {
          "base_uri": "https://localhost:8080/"
        },
        "id": "Zo3u11Zw7EI4",
        "outputId": "d70906cf-277f-489c-b925-7af493882a68"
      },
      "outputs": [
        {
          "name": "stdout",
          "output_type": "stream",
          "text": [
            "The value of a[0] = 0.000000 and psum = 0.000000 done by worker Thread ID = 0\n",
            "The value of a[1] = 1.000000 and psum = 1.000000 done by worker Thread ID = 0\n",
            "The value of a[2] = 2.000000 and psum = 3.000000 done by worker Thread ID = 0\n",
            "The value of a[6] = 6.000000 and psum = 6.000000 done by worker Thread ID = 2\n",
            "The value of a[7] = 7.000000 and psum = 13.000000 done by worker Thread ID = 2\n",
            "The value of a[3] = 3.000000 and psum = 3.000000 done by worker Thread ID = 1\n",
            "The value of a[4] = 4.000000 and psum = 7.000000 done by worker Thread ID = 1\n",
            "The value of a[5] = 5.000000 and psum = 12.000000 done by worker Thread ID = 1\n",
            "The value of a[8] = 8.000000 and psum = 8.000000 done by worker Thread ID = 3\n",
            "The value of a[9] = 9.000000 and psum = 17.000000 done by worker Thread ID = 3\n",
            "Final Sum = 3.000000\n",
            "Final Sum = 16.000000\n",
            "Final Sum = 33.000000\n",
            "Final Sum = 45.000000\n",
            "0.002930 \n"
          ]
        }
      ],
      "source": [
        "!./Add2"
      ]
    },
    {
      "cell_type": "code",
      "execution_count": null,
      "metadata": {
        "colab": {
          "base_uri": "https://localhost:8080/"
        },
        "id": "bOABDBeo7Fqo",
        "outputId": "9f20dfa9-56af-4666-a8fe-1796c7113098"
      },
      "outputs": [
        {
          "name": "stdout",
          "output_type": "stream",
          "text": [
            "Writing reduct.c\n"
          ]
        }
      ],
      "source": [
        "%%writefile reduct.c\n",
        "#include <stdio.h>\n",
        "#include <omp.h>\n",
        "\n",
        "#define n 10\n",
        "\n",
        "int main()\n",
        "{\n",
        "\tdouble a[n];\n",
        "\tdouble sum=0;\n",
        "\tfloat startTime, endTime,execTime;\n",
        "\tint i;\n",
        "\tint omp_rank;\n",
        "\n",
        "\tstartTime = omp_get_wtime();\n",
        "\t#pragma omp parallel private (i) shared (a) reduction(+:sum)\n",
        "\t{\n",
        "\t\t#pragma omp for\n",
        "\t\tfor(i=0;i<n;i++)\n",
        "\t\t{\n",
        "\t\t\tomp_rank = omp_get_thread_num();\n",
        "\t\t\ta[i] = i; //* 10.236;  \t// Use Random function and assign a[i]\n",
        "\t\t\tsum = sum + a[i];\n",
        "\t\t\tprintf(\"The value of a[%d] = %lf and sum = %lf done by worker Thread ID = %d\\n\", i, a[i], sum, omp_rank);\n",
        "\t\t}\n",
        "\n",
        "\t}\n",
        "\tendTime = omp_get_wtime();\n",
        "\tprintf(\"\\n Final Sum is %f\\n\", sum );\n",
        "\texecTime = endTime - startTime;\n",
        "\tprintf(\"%f \\n\",execTime);\n",
        "\treturn(0);\n",
        "}\n"
      ]
    },
    {
      "cell_type": "code",
      "execution_count": null,
      "metadata": {
        "id": "z6hfM--j7sz4"
      },
      "outputs": [],
      "source": [
        "!gcc -fopenmp reduct.c -o reduct"
      ]
    },
    {
      "cell_type": "code",
      "execution_count": null,
      "metadata": {
        "colab": {
          "base_uri": "https://localhost:8080/"
        },
        "id": "C_0VF59M7zMX",
        "outputId": "e203d12e-71bf-4065-b528-0f7c9828ed84"
      },
      "outputs": [
        {
          "name": "stdout",
          "output_type": "stream",
          "text": [
            "The value of a[3] = 3.000000 and sum = 3.000000 done by worker Thread ID = 1\n",
            "The value of a[4] = 4.000000 and sum = 7.000000 done by worker Thread ID = 1\n",
            "The value of a[5] = 5.000000 and sum = 12.000000 done by worker Thread ID = 1\n",
            "The value of a[6] = 6.000000 and sum = 6.000000 done by worker Thread ID = 2\n",
            "The value of a[7] = 7.000000 and sum = 13.000000 done by worker Thread ID = 2\n",
            "The value of a[8] = 8.000000 and sum = 8.000000 done by worker Thread ID = 3\n",
            "The value of a[9] = 9.000000 and sum = 17.000000 done by worker Thread ID = 3\n",
            "The value of a[0] = 0.000000 and sum = 0.000000 done by worker Thread ID = 0\n",
            "The value of a[1] = 1.000000 and sum = 1.000000 done by worker Thread ID = 0\n",
            "The value of a[2] = 2.000000 and sum = 3.000000 done by worker Thread ID = 0\n",
            "\n",
            " Final Sum is 45.000000\n",
            "0.006836 \n"
          ]
        }
      ],
      "source": [
        "!./reduct"
      ]
    },
    {
      "cell_type": "code",
      "execution_count": null,
      "metadata": {
        "id": "yL1gu7Gm70WN"
      },
      "outputs": [],
      "source": []
    }
  ],
  "metadata": {
    "colab": {
      "provenance": []
    },
    "kernelspec": {
      "display_name": "Python 3",
      "name": "python3"
    },
    "language_info": {
      "name": "python"
    }
  },
  "nbformat": 4,
  "nbformat_minor": 0
}